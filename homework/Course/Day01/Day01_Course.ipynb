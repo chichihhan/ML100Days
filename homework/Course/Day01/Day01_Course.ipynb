{
 "cells": [
  {
   "cell_type": "code",
   "execution_count": 1,
   "id": "1366affb",
   "metadata": {},
   "outputs": [
    {
     "name": "stdout",
     "output_type": "stream",
     "text": [
      "<module 'numpy' from 'C:\\\\Users\\\\chich\\\\anaconda3\\\\lib\\\\site-packages\\\\numpy\\\\__init__.py'>\n",
      "1.20.3\n"
     ]
    }
   ],
   "source": [
    "#載入Numpy套件\n",
    "import numpy as np\n",
    "\n",
    "#檢查版本\n",
    "print(np)\n",
    "print(np.__version__)"
   ]
  },
  {
   "cell_type": "code",
   "execution_count": 7,
   "id": "6a8070d1",
   "metadata": {},
   "outputs": [
    {
     "name": "stdout",
     "output_type": "stream",
     "text": [
      "[[ 0  1  2  3  4]\n",
      " [ 5  6  7  8  9]\n",
      " [10 11 12 13 14]]\n"
     ]
    },
    {
     "data": {
      "text/plain": [
       "array([[ 0,  1,  2,  3,  4],\n",
       "       [ 5,  6,  7,  8,  9],\n",
       "       [10, 11, 12, 13, 14]])"
      ]
     },
     "execution_count": 7,
     "metadata": {},
     "output_type": "execute_result"
    }
   ],
   "source": [
    "#從一個陣列開始\n",
    "a=np.arange(15).reshape(3,5)\n",
    "\n",
    "#利用print印出陣列\n",
    "print(a)\n",
    "\n",
    "#利用Jupyter印出陣列\n",
    "a"
   ]
  },
  {
   "cell_type": "code",
   "execution_count": 14,
   "id": "c3bda993",
   "metadata": {},
   "outputs": [
    {
     "name": "stdout",
     "output_type": "stream",
     "text": [
      "ndim:  2\n",
      "shape:  (3, 5)\n",
      "size:  15\n",
      "dtype:  int32\n",
      "itemsize:  4\n",
      "data:  <memory at 0x0000021A1C36E450>\n"
     ]
    }
   ],
   "source": [
    "#陣列的常用屬性\n",
    "\n",
    "print('ndim: ',a.ndim)\n",
    "print('shape: ',a.shape)\n",
    "print('size: ',a.size)\n",
    "print('dtype: ',a.dtype)\n",
    "print('itemsize: ',a.itemsize)\n",
    "print('data: ',a.data)"
   ]
  },
  {
   "cell_type": "code",
   "execution_count": 18,
   "id": "08dc962f",
   "metadata": {},
   "outputs": [
    {
     "name": "stdout",
     "output_type": "stream",
     "text": [
      "list(a):  [array([0, 1, 2, 3, 4]), array([5, 6, 7, 8, 9]), array([10, 11, 12, 13, 14])]\n",
      "tolist(a):  [[0, 1, 2, 3, 4], [5, 6, 7, 8, 9], [10, 11, 12, 13, 14]]\n"
     ]
    }
   ],
   "source": [
    "#list和array的轉換\n",
    "print('list(a): ',list(a))\n",
    "print('tolist(a): ',a.tolist())"
   ]
  },
  {
   "cell_type": "code",
   "execution_count": null,
   "id": "7d8cf5b4",
   "metadata": {},
   "outputs": [],
   "source": []
  }
 ],
 "metadata": {
  "kernelspec": {
   "display_name": "Python 3 (ipykernel)",
   "language": "python",
   "name": "python3"
  },
  "language_info": {
   "codemirror_mode": {
    "name": "ipython",
    "version": 3
   },
   "file_extension": ".py",
   "mimetype": "text/x-python",
   "name": "python",
   "nbconvert_exporter": "python",
   "pygments_lexer": "ipython3",
   "version": "3.9.7"
  }
 },
 "nbformat": 4,
 "nbformat_minor": 5
}
