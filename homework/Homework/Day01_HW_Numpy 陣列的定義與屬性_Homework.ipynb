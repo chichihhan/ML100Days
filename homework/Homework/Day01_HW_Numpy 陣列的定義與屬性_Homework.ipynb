{
 "cells": [
  {
   "cell_type": "markdown",
   "metadata": {
    "id": "P6xk2_jLsvFF"
   },
   "source": [
    "# [作業目標]\n",
    "\n",
    "1. [簡答題] 請問下列兩種將 Array 轉換成 List 的方式有何不同？\n",
    "\n",
    "```\n",
    "print('list(a): ', list(a))\n",
    "print('tolist(): ', a.tolist())\n",
    "```\n",
    "\n",
    "2. 請試著在程式中印出以下三個 NdArray 的屬性？（屬性：ndim、shape、size、dtype、itemsize、length、type）\n",
    "\n",
    "```\n",
    "a = np.random.randint(10, size=6) \n",
    "b = np.random.randint(10, size=(3,4)) \n",
    "c = np.random.randint(10, size=(2,3,2)) \n",
    "```\n",
    "\n",
    "3. 如何利用 list(...) 實現 a.tolist() 的效果？試著用程式實作。\n"
   ]
  },
  {
   "cell_type": "markdown",
   "metadata": {
    "id": "uXGll28asvFS"
   },
   "source": [
    "# 作業 "
   ]
  },
  {
   "cell_type": "markdown",
   "metadata": {
    "id": "SYkvkp9YLwB7"
   },
   "source": [
    "### 1. [簡答題] 請問下列兩種將 Array 轉換成 List 的方式有何不同？\n",
    "\n",
    "```\n",
    "print('list(a): ', list(a))\n",
    "print('tolist(): ', a.tolist())\n",
    "```\n"
   ]
  },
  {
   "cell_type": "code",
   "execution_count": 41,
   "metadata": {
    "id": "5QrYoyNWsvFS",
    "outputId": "13f374d0-6f1b-47aa-bbac-c7d1a8c6995c"
   },
   "outputs": [
    {
     "name": "stdout",
     "output_type": "stream",
     "text": [
      "[4 9 2 6 5]\n",
      "list(a):  [4, 9, 2, 6, 5]\n",
      "tolist(a):  [4, 9, 2, 6, 5]\n",
      "[[1 7]\n",
      " [5 4]\n",
      " [2 5]]\n",
      "list(a):  [array([1, 7]), array([5, 4]), array([2, 5])]\n",
      "tolist:  [[1, 7], [5, 4], [2, 5]]\n"
     ]
    }
   ],
   "source": [
    "import numpy as np\n",
    "a=np.random.randint(10,size=5)\n",
    "print(a)\n",
    "print('list(a): ', list(a))\n",
    "print('tolist(a): ', a.tolist())\n",
    "\n",
    "b=np.random.randint(10,size=6).reshape(3,2)\n",
    "print(b)\n",
    "print('list(a): ', list(b))\n",
    "print('tolist: ', b.tolist())\n",
    "\n",
    "#Ans:tolist可以將二維巢狀的array皆轉為巢狀的list"
   ]
  },
  {
   "cell_type": "markdown",
   "metadata": {
    "id": "AC9wUCyALwB9"
   },
   "source": [
    "### 2. 請試著在程式中印出以下三個 NdArray 的屬性並且解釋結果？（屬性：ndim、shape、size、dtype、itemsize、length、type）\n",
    "\n",
    "```\n",
    "a = np.random.randint(10, size=6) \n",
    "b = np.random.randint(10, size=(3,4)) \n",
    "c = np.random.randint(10, size=(2,3,2)) \n",
    "```"
   ]
  },
  {
   "cell_type": "code",
   "execution_count": 42,
   "metadata": {
    "id": "4qARRsdtLwB-"
   },
   "outputs": [
    {
     "name": "stdout",
     "output_type": "stream",
     "text": [
      "[[9 3]\n",
      " [0 6]\n",
      " [1 4]]\n",
      "ndim(a):  2\n",
      "shape(a):  (3, 2)\n",
      "size(a):  6\n",
      "dtype(a):  int32\n",
      "itemsize(a):  4\n",
      "length(a):  3\n",
      "type(a):  <class 'numpy.ndarray'>\n"
     ]
    }
   ],
   "source": [
    "# 記得先 Import 正確的套件\n",
    "\n",
    "import numpy as np\n",
    "a=np.random.randint(10, size=6).reshape(3,2)\n",
    "print(a)\n",
    "print('ndim(a): ', a.ndim)\n",
    "print('shape(a): ', a.shape)\n",
    "print('size(a): ', a.size)\n",
    "print('dtype(a): ',a.dtype)\n",
    "print('itemsize(a): ', a.itemsize)\n",
    "print('length(a): ', len(a))\n",
    "print('type(a): ',type(a))"
   ]
  },
  {
   "cell_type": "code",
   "execution_count": 28,
   "metadata": {
    "id": "e1gVI0tvsvFY",
    "outputId": "9be10770-9042-40c8-c4bc-217b84be9fc9"
   },
   "outputs": [
    {
     "name": "stdout",
     "output_type": "stream",
     "text": [
      "[1 8 4 9 9 8]\n",
      "ndim(a):  1\n",
      "shape(a):  (6,)\n",
      "size(a):  6\n",
      "dtype(a):  int32\n",
      "itemsize(a):  4\n",
      "length(a):  6\n",
      "type(a):  <class 'numpy.ndarray'>\n"
     ]
    }
   ],
   "source": [
    "\n",
    "a = np.random.randint(10, size=6)\n",
    "print(a)\n",
    "print('ndim(a): ', a.ndim)\n",
    "print('shape(a): ', a.shape)\n",
    "print('size(a): ', a.size)\n",
    "print('dtype(a): ',a.dtype)\n",
    "print('itemsize(a): ', a.itemsize)\n",
    "print('length(a): ', len(a))\n",
    "print('type(a): ',type(a))"
   ]
  },
  {
   "cell_type": "code",
   "execution_count": 26,
   "metadata": {
    "id": "iIJrIr7kLwB_",
    "outputId": "083c5519-394c-404e-9764-100c4ed5118a"
   },
   "outputs": [
    {
     "name": "stdout",
     "output_type": "stream",
     "text": [
      "[[0 0 5 9]\n",
      " [1 2 4 6]\n",
      " [9 1 6 1]]\n",
      "ndim(a):  2\n",
      "shape(a):  (3, 4)\n",
      "size(a):  12\n",
      "dtype(a):  int32\n",
      "itemsize(a):  4\n",
      "length(a):  3\n",
      "type(a):  <class 'numpy.ndarray'>\n"
     ]
    }
   ],
   "source": [
    "b = np.random.randint(10, size=(3,4)) \n",
    "print(b)\n",
    "print('ndim(a): ', b.ndim)\n",
    "print('shape(a): ', b.shape)\n",
    "print('size(a): ', b.size)\n",
    "print('dtype(a): ',b.dtype)\n",
    "print('itemsize(a): ', b.itemsize)\n",
    "print('length(a): ', len(b))\n",
    "print('type(a): ',type(b))"
   ]
  },
  {
   "cell_type": "code",
   "execution_count": 27,
   "metadata": {
    "id": "98SRFh_FLwCC",
    "outputId": "dc65dfac-9ae6-49d2-f854-88eccebc2aac"
   },
   "outputs": [
    {
     "name": "stdout",
     "output_type": "stream",
     "text": [
      "[[[7 6]\n",
      "  [0 4]\n",
      "  [8 7]]\n",
      "\n",
      " [[0 0]\n",
      "  [7 8]\n",
      "  [2 0]]]\n",
      "ndim(a):  3\n",
      "shape(a):  (2, 3, 2)\n",
      "size(a):  12\n",
      "dtype(a):  int32\n",
      "itemsize(a):  4\n",
      "length(a):  2\n",
      "type(a):  <class 'numpy.ndarray'>\n"
     ]
    }
   ],
   "source": [
    "c = np.random.randint(10, size=(2,3,2)) \n",
    "print(c)\n",
    "print('ndim(a): ', c.ndim)\n",
    "print('shape(a): ', c.shape)\n",
    "print('size(a): ', c.size)\n",
    "print('dtype(a): ',c.dtype)\n",
    "print('itemsize(a): ', c.itemsize)\n",
    "print('length(a): ', len(c))\n",
    "print('type(a): ',type(c))"
   ]
  },
  {
   "cell_type": "markdown",
   "metadata": {
    "id": "Uf6zC0QZLwCE"
   },
   "source": [
    "### 3. 如何利用 list(...) 實現 a.tolist() 的效果？試著用程式實作。\n"
   ]
  },
  {
   "cell_type": "code",
   "execution_count": 38,
   "metadata": {
    "id": "sCUzHu_BLwCF",
    "outputId": "ba9c8945-8efb-42b1-f978-2bbdda97accd"
   },
   "outputs": [
    {
     "name": "stdout",
     "output_type": "stream",
     "text": [
      "[2 0 3 8 2 4]\n",
      "[2, 0, 3, 8, 2, 4]\n",
      "[2, 0, 3, 8, 2, 4]\n"
     ]
    }
   ],
   "source": [
    "a = np.random.randint(10, size=6) \n",
    "print(a)\n",
    "print(a.tolist())\n",
    "print(list(a))\n"
   ]
  },
  {
   "cell_type": "code",
   "execution_count": 39,
   "metadata": {
    "id": "IUkVtw8RLwCG",
    "outputId": "e39875a5-5ec7-431b-c12a-485acc167e44"
   },
   "outputs": [
    {
     "name": "stdout",
     "output_type": "stream",
     "text": [
      "[[0 7 3 4]\n",
      " [0 6 1 6]\n",
      " [8 8 3 3]]\n",
      "[[0, 7, 3, 4], [0, 6, 1, 6], [8, 8, 3, 3]]\n",
      "[array([0, 7, 3, 4]), array([0, 6, 1, 6]), array([8, 8, 3, 3])]\n"
     ]
    }
   ],
   "source": [
    "b = np.random.randint(10, size=(3,4)) \n",
    "\n",
    "print(b)\n",
    "print(b.tolist())\n",
    "print(list(b))\n"
   ]
  },
  {
   "cell_type": "code",
   "execution_count": 40,
   "metadata": {
    "id": "NPhF8_CqLwCG",
    "outputId": "51fab908-5bfd-415f-9584-92bb376648c8"
   },
   "outputs": [
    {
     "name": "stdout",
     "output_type": "stream",
     "text": [
      "[[[1 2]\n",
      "  [0 5]\n",
      "  [6 1]]\n",
      "\n",
      " [[6 6]\n",
      "  [4 4]\n",
      "  [1 0]]]\n",
      "[[[1, 2], [0, 5], [6, 1]], [[6, 6], [4, 4], [1, 0]]]\n",
      "[array([[1, 2],\n",
      "       [0, 5],\n",
      "       [6, 1]]), array([[6, 6],\n",
      "       [4, 4],\n",
      "       [1, 0]])]\n"
     ]
    }
   ],
   "source": [
    "c = np.random.randint(10, size=(2,3,2)) \n",
    "print(c)\n",
    "print(c.tolist())\n",
    "print(list(c))\n"
   ]
  },
  {
   "cell_type": "code",
   "execution_count": 34,
   "metadata": {
    "id": "3Hc8vQYtLwCH",
    "outputId": "1290bc93-84ca-4da4-eb1a-315da37afaff"
   },
   "outputs": [
    {
     "name": "stdout",
     "output_type": "stream",
     "text": [
      "[5, 5, 3, 9, 1, 1]\n",
      "[[1, 8, 0, 7], [5, 9, 1, 1], [2, 2, 5, 8]]\n",
      "[[[8, 0], [3, 0], [6, 6]], [[7, 9], [3, 0], [0, 8]]]\n"
     ]
    }
   ],
   "source": [
    "def tolist(iterable):\n",
    "    if type(iterable)!=np.ndarray:\n",
    "        return iterable\n",
    "    newlist=[]\n",
    "    for obj in iterable:\n",
    "        newlist.append(tolist(obj))\n",
    "    return list(newlist)\n",
    "\n",
    "print(tolist(a))\n",
    "print(tolist(b))\n",
    "print(tolist(c))"
   ]
  },
  {
   "cell_type": "code",
   "execution_count": 36,
   "metadata": {
    "id": "2lDVOwFpLwCJ",
    "outputId": "ddfa84e4-3d32-4a68-c250-f57b2f66d830"
   },
   "outputs": [
    {
     "name": "stdout",
     "output_type": "stream",
     "text": [
      "[5, 5, 3, 9, 1, 1]\n",
      "[[1, 8, 0, 7], [5, 9, 1, 1], [2, 2, 5, 8]]\n",
      "[[[8, 0], [3, 0], [6, 6]], [[7, 9], [3, 0], [0, 8]]]\n"
     ]
    }
   ],
   "source": [
    "def tolist(iterable):\n",
    "    if type(iterable)!=np.ndarray:\n",
    "        return iterable\n",
    "    return [tolist(obj) for obj in iterable]\n",
    "print(tolist(a))\n",
    "print(tolist(b))\n",
    "print(tolist(c))"
   ]
  },
  {
   "cell_type": "code",
   "execution_count": 37,
   "metadata": {
    "id": "tvqCpuFILwCK"
   },
   "outputs": [
    {
     "name": "stdout",
     "output_type": "stream",
     "text": [
      "[5, 5, 3, 9, 1, 1]\n",
      "[[1, 8, 0, 7], [5, 9, 1, 1], [2, 2, 5, 8]]\n",
      "[[[8, 0], [3, 0], [6, 6]], [[7, 9], [3, 0], [0, 8]]]\n"
     ]
    }
   ],
   "source": [
    "print(tolist(a))\n",
    "print(tolist(b))\n",
    "print(tolist(c))"
   ]
  },
  {
   "cell_type": "code",
   "execution_count": null,
   "metadata": {
    "id": "640whg6NLwCK"
   },
   "outputs": [],
   "source": []
  }
 ],
 "metadata": {
  "colab": {
   "name": "01Homework_維元.ipynb",
   "provenance": []
  },
  "kernelspec": {
   "display_name": "Python 3 (ipykernel)",
   "language": "python",
   "name": "python3"
  },
  "language_info": {
   "codemirror_mode": {
    "name": "ipython",
    "version": 3
   },
   "file_extension": ".py",
   "mimetype": "text/x-python",
   "name": "python",
   "nbconvert_exporter": "python",
   "pygments_lexer": "ipython3",
   "version": "3.9.7"
  }
 },
 "nbformat": 4,
 "nbformat_minor": 1
}
