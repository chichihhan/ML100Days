{
 "cells": [
  {
   "cell_type": "markdown",
   "metadata": {
    "id": "P6xk2_jLsvFF"
   },
   "source": [
    "# [作業目標]\n",
    "\n",
    "1. [簡答題] 請問下列這三種方法有什麼不同？\n",
    "\n",
    "```\n",
    "print(a.sum()) \n",
    "print(np.sum(a))\n",
    "print(sum(a)) \n",
    "```\n",
    "\n",
    "2. 請對一個 5x5 的隨機矩陣作正規化的操作。\n",
    "\n",
    "3. 請建立一個長度等於 10 的正整數向量，並且將其中的最大值改成 -1。\n"
   ]
  },
  {
   "cell_type": "markdown",
   "metadata": {
    "id": "uXGll28asvFS"
   },
   "source": [
    "# 作業 "
   ]
  },
  {
   "cell_type": "markdown",
   "metadata": {
    "id": "lbz8VjL6jxyL"
   },
   "source": [
    "### 1. [簡答題] 請問下列這三種方法有什麼不同？\n",
    "\n",
    "```\n",
    "print(a.sum()) \n",
    "print(np.sum(a))\n",
    "print(sum(a)) \n",
    "```\n",
    "\n"
   ]
  },
  {
   "cell_type": "code",
   "execution_count": 6,
   "metadata": {
    "id": "5QrYoyNWsvFS",
    "outputId": "e9e14d36-38ce-4ce5-edf2-3c7b129db580"
   },
   "outputs": [
    {
     "name": "stdout",
     "output_type": "stream",
     "text": [
      "[0 1 2 3 4]\n",
      "10\n",
      "10\n",
      "10\n"
     ]
    }
   ],
   "source": [
    "import numpy as np\n",
    "a=np.arange(5)\n",
    "print(a)\n",
    "print(a.sum()) #是陣列專有的函式\n",
    "print(np.sum(a)) #是陣列專有的函式\n",
    "print(sum(a)) #是python內建的函式，所有型態皆可以使用\n",
    "#差別在於定義在np或是python底下"
   ]
  },
  {
   "cell_type": "markdown",
   "metadata": {
    "id": "vVrjBXabjxyS"
   },
   "source": [
    "### 2. 請對一個 5x5 的隨機矩陣作正規化的操作。\n"
   ]
  },
  {
   "cell_type": "code",
   "execution_count": null,
   "metadata": {
    "id": "ffDRVHs9jxyS"
   },
   "outputs": [],
   "source": [
    "# 記得先 Import 正確的套件\n",
    "\n",
    "import numpy as np"
   ]
  },
  {
   "cell_type": "code",
   "execution_count": 19,
   "metadata": {
    "id": "e1gVI0tvsvFY",
    "outputId": "43bf676f-fd04-4edf-c062-b5fe7fe1f4bf"
   },
   "outputs": [
    {
     "name": "stdout",
     "output_type": "stream",
     "text": [
      "[[8.60677942e-01 2.86775809e-01 5.13207691e-01 7.35061523e-01\n",
      "  5.61402648e-01]\n",
      " [6.78180664e-04 1.83444544e-01 4.89243494e-01 5.56918885e-01\n",
      "  3.64695003e-02]\n",
      " [3.77686709e-01 5.93843244e-01 8.76957373e-01 8.76971126e-01\n",
      "  1.58663958e-02]\n",
      " [5.09513198e-02 8.39873239e-01 2.09910966e-01 1.68092886e-01\n",
      "  9.91527145e-02]\n",
      " [1.56504652e-01 2.25535317e-01 6.63620270e-01 4.03720789e-01\n",
      "  3.87063739e-02]]\n",
      "0.8769711262689297\n",
      "13\n",
      "0.0006781806637237153\n",
      "5\n",
      "[[0.98140669 0.32648628 0.58488376 0.83805689 0.63988244]\n",
      " [0.         0.20856765 0.55753651 0.6347657  0.04084401]\n",
      " [0.43023116 0.6769027  0.9999843  1.         0.01733235]\n",
      " [0.05737024 0.95766497 0.23877036 0.19104879 0.11237627]\n",
      " [0.17782463 0.25660042 0.75653021 0.45994049 0.04339667]]\n"
     ]
    }
   ],
   "source": [
    "A = np.random.random((5, 5))\n",
    "print(A)\n",
    "print(np.max(A)) #找最大值\n",
    "print(np.argmax(A)) #找最大值的位置\n",
    "print(np.min(A)) #找最小值\n",
    "print(np.argmin(A)) #找最小值位置\n",
    "B=(A-np.min(A))/(np.max(A)-np.min(A)) #正規化\n",
    "print(B)"
   ]
  },
  {
   "cell_type": "markdown",
   "metadata": {
    "id": "Ptc3ZrNQjxyU"
   },
   "source": [
    "### 3. 請建立一個長度等於 10 的正整數向量，並且將其中的最大值改成 -1。\n"
   ]
  },
  {
   "cell_type": "code",
   "execution_count": 25,
   "metadata": {
    "id": "Yu1kbLxojxyU",
    "outputId": "d323e754-178a-46ae-e15e-98275ae220dd"
   },
   "outputs": [
    {
     "name": "stdout",
     "output_type": "stream",
     "text": [
      "[0.05784975 0.16830241 0.24754878 0.59049413 0.69175449 0.9438519\n",
      " 0.57589176 0.90786478 0.10511825 0.40156796]\n",
      "0.9438518958301177\n",
      "5\n",
      "[ 0.05784975  0.16830241  0.24754878  0.59049413  0.69175449 -1.\n",
      "  0.57589176  0.90786478  0.10511825  0.40156796]\n"
     ]
    }
   ],
   "source": [
    "import numpy as np\n",
    "A=np.random.random(10)\n",
    "print(A)\n",
    "A_MAX=np.max(A)\n",
    "print(A_MAX)\n",
    "print(np.argmax(A))\n",
    "A[np.argmax(A)]=-1\n",
    "print(A)"
   ]
  },
  {
   "cell_type": "code",
   "execution_count": null,
   "metadata": {
    "id": "IoPlZnZgjxyV"
   },
   "outputs": [],
   "source": []
  },
  {
   "cell_type": "code",
   "execution_count": null,
   "metadata": {
    "id": "V5bMfGR_jxyV"
   },
   "outputs": [],
   "source": []
  }
 ],
 "metadata": {
  "colab": {
   "name": "06 Homework_維元.ipynb",
   "provenance": []
  },
  "kernelspec": {
   "display_name": "Python 3 (ipykernel)",
   "language": "python",
   "name": "python3"
  },
  "language_info": {
   "codemirror_mode": {
    "name": "ipython",
    "version": 3
   },
   "file_extension": ".py",
   "mimetype": "text/x-python",
   "name": "python",
   "nbconvert_exporter": "python",
   "pygments_lexer": "ipython3",
   "version": "3.9.7"
  }
 },
 "nbformat": 4,
 "nbformat_minor": 1
}
