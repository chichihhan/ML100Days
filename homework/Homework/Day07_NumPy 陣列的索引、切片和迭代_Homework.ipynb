{
 "cells": [
  {
   "cell_type": "markdown",
   "metadata": {
    "colab_type": "text",
    "id": "P6xk2_jLsvFF"
   },
   "source": [
    "# [作業目標]\n",
    "\n",
    "1. 請比較對一個 100 x 100 * 100 的陣列，使用不同方法對每一個元素 +1 的時間比較。\n",
    "\n",
    "2. 如何從一個陣列中，找出出現頻率最高的數值與位置？\n",
    "\n",
    "3. 如何利用 list(...) 實現 a.tolist() 的效果？試著用程式實作。\n"
   ]
  },
  {
   "cell_type": "markdown",
   "metadata": {
    "colab_type": "text",
    "id": "uXGll28asvFS"
   },
   "source": [
    "# 作業 "
   ]
  },
  {
   "cell_type": "markdown",
   "metadata": {},
   "source": [
    "### 1. 請比較對一個 1000 x 100 x 100 的陣列，使用不同方法對每一個元素 +1 的時間比較。\n",
    "\n",
    "\n"
   ]
  },
  {
   "cell_type": "code",
   "execution_count": 5,
   "metadata": {},
   "outputs": [],
   "source": [
    "# 記得先 Import 正確的套件\n",
    "import numpy as np"
   ]
  },
  {
   "cell_type": "code",
   "execution_count": 18,
   "metadata": {
    "colab": {},
    "colab_type": "code",
    "id": "5QrYoyNWsvFS"
   },
   "outputs": [
    {
     "name": "stdout",
     "output_type": "stream",
     "text": [
      "[[[0 2 7 ... 1 0 5]\n",
      "  [3 4 8 ... 7 2 9]\n",
      "  [5 7 9 ... 1 8 2]\n",
      "  ...\n",
      "  [0 4 5 ... 8 8 5]\n",
      "  [2 2 8 ... 0 1 4]\n",
      "  [2 2 5 ... 1 6 0]]\n",
      "\n",
      " [[4 3 2 ... 4 8 6]\n",
      "  [4 4 7 ... 1 5 1]\n",
      "  [4 1 5 ... 0 7 6]\n",
      "  ...\n",
      "  [8 9 4 ... 1 6 4]\n",
      "  [0 3 8 ... 5 7 3]\n",
      "  [5 5 7 ... 0 3 9]]\n",
      "\n",
      " [[9 9 6 ... 8 1 4]\n",
      "  [8 5 6 ... 5 6 9]\n",
      "  [1 8 6 ... 7 1 4]\n",
      "  ...\n",
      "  [5 1 2 ... 5 2 4]\n",
      "  [0 0 8 ... 7 8 8]\n",
      "  [6 0 5 ... 9 4 5]]\n",
      "\n",
      " ...\n",
      "\n",
      " [[2 9 7 ... 8 0 7]\n",
      "  [6 2 4 ... 5 0 9]\n",
      "  [6 2 7 ... 5 8 1]\n",
      "  ...\n",
      "  [8 8 2 ... 6 8 7]\n",
      "  [7 2 4 ... 7 5 2]\n",
      "  [5 2 4 ... 3 7 1]]\n",
      "\n",
      " [[0 1 9 ... 4 5 7]\n",
      "  [1 0 5 ... 1 8 3]\n",
      "  [9 8 7 ... 6 8 8]\n",
      "  ...\n",
      "  [1 3 4 ... 5 5 5]\n",
      "  [3 1 2 ... 4 3 1]\n",
      "  [3 5 1 ... 1 2 7]]\n",
      "\n",
      " [[3 2 6 ... 9 2 8]\n",
      "  [7 8 8 ... 5 0 4]\n",
      "  [4 0 3 ... 0 1 7]\n",
      "  ...\n",
      "  [6 0 0 ... 7 6 6]\n",
      "  [3 0 0 ... 8 4 7]\n",
      "  [2 9 8 ... 0 8 4]]]\n"
     ]
    }
   ],
   "source": [
    "Z = np.random.randint(0, 10, 1000000).reshape(100, 100, 100)\n",
    "print(Z)"
   ]
  },
  {
   "cell_type": "code",
   "execution_count": 19,
   "metadata": {},
   "outputs": [
    {
     "name": "stdout",
     "output_type": "stream",
     "text": [
      "31.4 ns ± 17.3 ns per loop (mean ± std. dev. of 7 runs, 10 loops each)\n"
     ]
    }
   ],
   "source": [
    "%timeit -n 10 a = 2\n",
    "\n",
    "for i in Z:\n",
    "    for j in i:\n",
    "        for k in j:\n",
    "            i=i+1"
   ]
  },
  {
   "cell_type": "code",
   "execution_count": 20,
   "metadata": {},
   "outputs": [
    {
     "name": "stdout",
     "output_type": "stream",
     "text": [
      "20 ns ± 9.26 ns per loop (mean ± std. dev. of 7 runs, 10 loops each)\n"
     ]
    }
   ],
   "source": [
    "%timeit -n 10 a = 2\n",
    "\n",
    "for i in Z.flat:\n",
    "    i=i+1"
   ]
  },
  {
   "cell_type": "code",
   "execution_count": 21,
   "metadata": {},
   "outputs": [
    {
     "name": "stdout",
     "output_type": "stream",
     "text": [
      "32.9 ns ± 15.8 ns per loop (mean ± std. dev. of 7 runs, 10 loops each)\n"
     ]
    }
   ],
   "source": [
    "%timeit -n 10 a = 2\n",
    "\n",
    "for i in np.nditer(Z):\n",
    "    i=i+1"
   ]
  },
  {
   "cell_type": "code",
   "execution_count": 22,
   "metadata": {},
   "outputs": [
    {
     "name": "stdout",
     "output_type": "stream",
     "text": [
      "34.3 ns ± 15.9 ns per loop (mean ± std. dev. of 7 runs, 10 loops each)\n"
     ]
    }
   ],
   "source": [
    "%timeit -n 10 a = 2\n",
    "\n",
    "Z=Z+1"
   ]
  },
  {
   "cell_type": "markdown",
   "metadata": {},
   "source": [
    "### 2. 如何從一個陣列中，找出出現頻率最高的數值與位置？\n"
   ]
  },
  {
   "cell_type": "code",
   "execution_count": 38,
   "metadata": {
    "colab": {},
    "colab_type": "code",
    "id": "e1gVI0tvsvFY"
   },
   "outputs": [
    {
     "name": "stdout",
     "output_type": "stream",
     "text": [
      "[1 1 5 0 2 7 5 1 4 1 1 5 0 2 5 6 7 8 8 1 8 6 6 8 9 6 1 4 8 0 2 6 0 0 4 2 8\n",
      " 4 2 9 8 1 6 8 9 8 5 8 0 4]\n"
     ]
    }
   ],
   "source": [
    "\n",
    "Z = np.random.randint(0,10,50)\n",
    "print(Z)\n"
   ]
  },
  {
   "cell_type": "code",
   "execution_count": 45,
   "metadata": {},
   "outputs": [
    {
     "name": "stdout",
     "output_type": "stream",
     "text": [
      "[ 6  8  5  0  5  5  6  2 10  3]\n",
      "出現頻率最高的數字: 8\n",
      "出現頻率最高數字的位置 (array([17, 18, 20, 23, 28, 36, 40, 43, 45, 47], dtype=int64),)\n"
     ]
    }
   ],
   "source": [
    "count=np.bincount(Z)\n",
    "print(count)\n",
    "count_position=count.argmax()\n",
    "print('出現頻率最高的數字:',count_position)\n",
    "print('出現頻率最高數字的位置',np.where(Z==count.argmax()))\n"
   ]
  },
  {
   "cell_type": "markdown",
   "metadata": {},
   "source": [
    "### 3. 如何利用 list(...) 實現 a.tolist() 的效果？試著用程式實作。\n"
   ]
  },
  {
   "cell_type": "code",
   "execution_count": 46,
   "metadata": {},
   "outputs": [
    {
     "name": "stdout",
     "output_type": "stream",
     "text": [
      "[0, 7, 9, 3, 3, 0]\n",
      "[0, 7, 9, 3, 3, 0]\n",
      "[[0, 9, 7, 3], [1, 2, 5, 0], [3, 2, 0, 7]]\n",
      "[array([0, 9, 7, 3]), array([1, 2, 5, 0]), array([3, 2, 0, 7])]\n",
      "[[[8, 6], [3, 4], [3, 8]], [[6, 0], [5, 6], [1, 9]]]\n",
      "[array([[8, 6],\n",
      "       [3, 4],\n",
      "       [3, 8]]), array([[6, 0],\n",
      "       [5, 6],\n",
      "       [1, 9]])]\n"
     ]
    }
   ],
   "source": [
    "a = np.random.randint(10, size=6) \n",
    "\n",
    "print(a.tolist())\n",
    "print(list(a))\n",
    "\n",
    "\n",
    "b = np.random.randint(10, size=(3,4)) \n",
    "\n",
    "print(b.tolist())\n",
    "print(list(b))\n",
    "\n",
    "\n",
    "c = np.random.randint(10, size=(2,3,2)) \n",
    "\n",
    "print(c.tolist())\n",
    "print(list(c))\n"
   ]
  },
  {
   "cell_type": "code",
   "execution_count": 47,
   "metadata": {},
   "outputs": [
    {
     "name": "stdout",
     "output_type": "stream",
     "text": [
      "[0, 7, 9, 3, 3, 0]\n",
      "[[0, 9, 7, 3], [1, 2, 5, 0], [3, 2, 0, 7]]\n",
      "[[[8, 6], [3, 4], [3, 8]], [[6, 0], [5, 6], [1, 9]]]\n"
     ]
    }
   ],
   "source": [
    "def tolist(iterable):\n",
    "    if type(iterable) != np.ndarray:\n",
    "        return iterable\n",
    "    return [tolist(obj) for obj in iterable]\n",
    "\n",
    "print(tolist(a))\n",
    "print(tolist(b))\n",
    "print(tolist(c))"
   ]
  },
  {
   "cell_type": "code",
   "execution_count": null,
   "metadata": {},
   "outputs": [],
   "source": []
  }
 ],
 "metadata": {
  "colab": {
   "name": "Day_023_HW.ipynb",
   "provenance": []
  },
  "kernelspec": {
   "display_name": "Python 3 (ipykernel)",
   "language": "python",
   "name": "python3"
  },
  "language_info": {
   "codemirror_mode": {
    "name": "ipython",
    "version": 3
   },
   "file_extension": ".py",
   "mimetype": "text/x-python",
   "name": "python",
   "nbconvert_exporter": "python",
   "pygments_lexer": "ipython3",
   "version": "3.9.7"
  }
 },
 "nbformat": 4,
 "nbformat_minor": 1
}
