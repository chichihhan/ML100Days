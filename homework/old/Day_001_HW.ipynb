{
 "cells": [
  {
   "cell_type": "markdown",
   "metadata": {},
   "source": [
    "## 練習時間\n",
    "#### 請寫一個函式用來計算 Mean Square Error\n",
    "$ MSE = \\frac{1}{n}\\sum_{i=1}^{n}{(Y_i - \\hat{Y}_i)^2} $\n",
    "\n",
    "### Hint: [如何取平方](https://googoodesign.gitbooks.io/-ezpython/unit-1.html)"
   ]
  },
  {
   "cell_type": "markdown",
   "metadata": {},
   "source": [
    "# [作業目標]\n",
    "- 仿造範例的MAE函數, 自己寫一個MSE函數(參考上面公式)"
   ]
  },
  {
   "cell_type": "markdown",
   "metadata": {},
   "source": [
    "# [作業重點]\n",
    "- 注意程式的縮排\n",
    "- 是否能將數學公式, 轉換為 Python 的函式組合? (In[2], Out[2])"
   ]
  },
  {
   "cell_type": "code",
   "execution_count": 1,
   "metadata": {},
   "outputs": [],
   "source": [
    "# 載入基礎套件與代稱\n",
    "import numpy as np\n",
    "import matplotlib.pyplot as plt"
   ]
  },
  {
   "cell_type": "code",
   "execution_count": 7,
   "metadata": {},
   "outputs": [],
   "source": [
    "def mean_absolute_error(y, yp):\n",
    "    \"\"\"\n",
    "    計算 MAE\n",
    "    Args:\n",
    "        - y: 實際值\n",
    "        - yp: 預測值\n",
    "    Return:\n",
    "        - mae: MAE\n",
    "    \"\"\"\n",
    "    mae = MAE = sum(abs(y - yp)) / len(y)\n",
    "    return mae\n",
    "\n",
    "# 定義 mean_squared_error 這個函數, 計算並傳回 MSE\n",
    "def mean_squared_error(y,yp):\n",
    "    \"\"\"\n",
    "    calculate the mean squared error\n",
    "        - y : real vaule\n",
    "        - yp : predict value\n",
    "    Return:\n",
    "        -mse : MSE\n",
    "    \"\"\"\n",
    "    mse = MSE = sum((y - yp)**2) / len(y)\n",
    "    return mse"
   ]
  },
  {
   "cell_type": "code",
   "execution_count": 8,
   "metadata": {},
   "outputs": [
    {
     "data": {
      "image/png": "[encoded data removed]",
      "text/plain": [
       "<Figure size 432x288 with 1 Axes>"
      ]
     },
     "metadata": {
      "needs_background": "light"
     },
     "output_type": "display_data"
    }
   ],
   "source": [
    "# 與範例相同, 不另外解說\n",
    "w = 3\n",
    "b = 0.5\n",
    "x_lin = np.linspace(0, 100, 101)\n",
    "y = (x_lin + np.random.randn(101) * 5) * w + b\n",
    "\n",
    "plt.plot(x_lin, y, 'b.', label = 'data points')\n",
    "plt.title(\"Assume we have data points\")\n",
    "plt.legend(loc = 2)\n",
    "plt.show()"
   ]
  },
  {
   "cell_type": "code",
   "execution_count": 9,
   "metadata": {},
   "outputs": [
    {
     "data": {
      "image/png": "[encoded data removed]",
      "text/plain": [
       "<Figure size 432x288 with 1 Axes>"
      ]
     },
     "metadata": {
      "needs_background": "light"
     },
     "output_type": "display_data"
    }
   ],
   "source": [
    "# 與範例相同, 不另外解說\n",
    "y_hat = x_lin * w + b\n",
    "plt.plot(x_lin, y, 'b.', label = 'data')\n",
    "plt.plot(x_lin, y_hat, 'r-', label = 'prediction')\n",
    "plt.title(\"Assume we have data points (And the prediction)\")\n",
    "plt.legend(loc = 2)\n",
    "plt.show()"
   ]
  },
  {
   "cell_type": "code",
   "execution_count": 10,
   "metadata": {},
   "outputs": [
    {
     "name": "stdout",
     "output_type": "stream",
     "text": [
      "The Mean squared error is 238.880\n",
      "The Mean absolute error is 12.362\n"
     ]
    }
   ],
   "source": [
    "# 執行 Function, 確認有沒有正常執行\n",
    "MSE = mean_squared_error(y, y_hat)\n",
    "MAE = mean_absolute_error(y, y_hat)\n",
    "print(\"The Mean squared error is %.3f\" % (MSE))\n",
    "print(\"The Mean absolute error is %.3f\" % (MAE))"
   ]
  },
  {
   "cell_type": "markdown",
   "metadata": {},
   "source": [
    "# [作業2]\n",
    "\n",
    "請上 Kaggle, 在 Competitions 或 Dataset 中找一組競賽或資料並寫下：\n",
    "\n",
    "我選擇的是Kaggle Data裡面的African Wildlife\n",
    "資料來源:https://www.kaggle.com/biancaferreira/african-wildlife/kernels\n",
    "\n",
    "1. 你選的這組資料為何重要\n",
    "\n",
    "從Kaggle看到最火熱的議題皆為COVID-19相關研究，如果本身並無生物背景，除了對病毒株的探討很難理解，對於作為學習程式的初學者來說並不友善。\n",
    "近年來影像辨識的議題日趨增加，小則工廠端AOI辨識來分辨產品的優劣與否，大則安全和隱私的權衡考量則是各國政府的一大課題\n",
    "African Wildlife從動物的分辨切入，不論如何製作，首先則較為親民\n",
    "\n",
    "2. 資料從何而來 (tips: 譬如提供者是誰、以什麼方式蒐集)\n",
    "\n",
    "作者為Bianca Ferreira\n",
    "蒐集方式如下\n",
    "Perform a Google search on the image class.\n",
    "Manually download images that are good representations of the class\n",
    "\n",
    "3. 蒐集而來的資料型態為何\n",
    "\n",
    "此dataset在每種動物分類中至少包含了376張長寬不同的圖片以及txt檔的文字分類，圖片內包含了數量不同的動物，種類不同的動物。\n",
    "\n",
    "4. 這組資料想解決的問題如何評估\n",
    "\n",
    "作者針對南非自然保育區中較常出現的動物做紀錄，可以架設定點式的錄影機來辨識動物的棲地、遷習，或者辨識盜獵者對於動物造成的傷害進行即時的救援。\n",
    "影像辨識的範圍很廣，從商業便利到資安息息相關，端看使用者的使用需求。\n",
    "\n",
    "\n",
    "# [作業3]\n",
    "\n",
    "想像你經營一個自由載客車隊，你希望能透過數據分析以提升業績，請你思考並描述你如何規劃整體的分析/解決方案：\n",
    "\n",
    "1. 核心問題為何 (tips：如何定義 「提升業績 & 你的假設」)\n",
    "\n",
    "影響自由載客車隊的業績主要來自載客的距離，載客的趟數以及等待時間的影響，以新竹科學園區為例，上下班時間乘車需求量大，乘車需求大，但是遇到下雨或是塞車，能跑的趟數就不多，如果撇除上下班時間，針對洽公從車站到各公司的需求就會比較多。\n",
    "\n",
    "如果能透過天氣預報的推估，於天氣狀況較差以及塞車所造成的載客趟數低提升加成，結合推播通知會員用戶未來的天氣狀況而提早搭乘避免塞車，而在車隊中載客趟數與加成金額取得平衡，會員制或許可以提升業績\n",
    "\n",
    "2. 資料從何而來 (tips：哪些資料可能會對你想問的問題產生影響 & 資料如何蒐集)\n",
    "\n",
    "除了中央氣象局，民間越來越多針對及時天氣的預估，可以預測及時天氣的變化而將車輛派遣至交通運輸量較大的位置提前等待\n",
    "車資則可以從車輛跳表所取得\n",
    "車輛位置可以透過GPS定位，讓車隊管理中心知道目前所有車輛的狀況以方便調控\n",
    "\n",
    "3. 蒐集而來的資料型態為何\n",
    "\n",
    "蒐集的數據，為結構化與非結構化的資料皆有\n",
    "結構化的為載客趟數，距離，金額\n",
    "非結構化的則為天氣預報的雷達回波圖，GPS地圖位置\n",
    "\n",
    "4. 你要回答的問題，其如何評估 (tips：你的假設如何驗證)\n",
    "\n",
    "(載客的收入-油錢)/工時，可以得到實際獲取的時薪，與有進行天氣預測，位置調配的進行比較，以驗證哪個變因對於收入的提升最為有效。"
   ]
  },
  {
   "cell_type": "code",
   "execution_count": null,
   "metadata": {},
   "outputs": [],
   "source": []
  }
 ],
 "metadata": {
  "anaconda-cloud": {},
  "kernelspec": {
   "display_name": "Python 3",
   "language": "python",
   "name": "python3"
  },
  "language_info": {
   "codemirror_mode": {
    "name": "ipython",
    "version": 3
   },
   "file_extension": ".py",
   "mimetype": "text/x-python",
   "name": "python",
   "nbconvert_exporter": "python",
   "pygments_lexer": "ipython3",
   "version": "3.7.6"
  }
 },
 "nbformat": 4,
 "nbformat_minor": 1
}
