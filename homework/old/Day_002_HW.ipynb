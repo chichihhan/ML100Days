{
 "cells": [
  {
   "cell_type": "markdown",
   "metadata": {},
   "source": [
    "## [作業目標]\n",
    "了解機器學習適合應用的領域與範疇。"
   ]
  },
  {
   "cell_type": "markdown",
   "metadata": {},
   "source": [
    "## [作業重點]\n",
    "透過瞭解機器學習的運作方式，找出非常適用機器學習應用的領域及其原因"
   ]
  },
  {
   "cell_type": "markdown",
   "metadata": {},
   "source": [
    "## 作業\n",
    "請找出一個你認為機器學習可以發光發熱的領域並闡述原因?\n",
    "\n",
    "非監督式學習，相機技術飛快式的演進，消費者對於成像的精細度也越來越要求，但一定都會遇到感光元件退化的這個問題，\n",
    "三五年就得更換一隻手機，即使功能符合需求，卻得因為相機的退化而製造垃圾。\n",
    "不同平台間的傳送影像，因為縮放或者是壓縮的關係造成照片失真，如果不壓縮卻會造成容量的限制\n",
    "如果透過非監督式的機器學習，透過對高解析度照片降維(Dimension Reduction)，再還原回原來的原貌進行模型的建立。\n",
    "對於較差的器材成像可以透過此模型還原成高解析度的圖片，可以避免硬體上的浪費\n",
    "對於即時監控或是錄影機成像在夜晚較差，可以透過機器學習模型的建立來還原成具有足夠辨識力的照片\n",
    "例如可以避免車輛發生車禍，有行車紀錄器，卻無法辨識車牌的窘境產生"
   ]
  },
  {
   "cell_type": "code",
   "execution_count": null,
   "metadata": {},
   "outputs": [],
   "source": []
  }
 ],
 "metadata": {
  "kernelspec": {
   "display_name": "Python 3",
   "language": "python",
   "name": "python3"
  },
  "language_info": {
   "codemirror_mode": {
    "name": "ipython",
    "version": 3
   },
   "file_extension": ".py",
   "mimetype": "text/x-python",
   "name": "python",
   "nbconvert_exporter": "python",
   "pygments_lexer": "ipython3",
   "version": "3.7.6"
  }
 },
 "nbformat": 4,
 "nbformat_minor": 2
}
